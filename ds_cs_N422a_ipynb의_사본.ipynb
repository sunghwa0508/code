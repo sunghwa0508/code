{
  "nbformat": 4,
  "nbformat_minor": 0,
  "metadata": {
    "colab": {
      "name": "ds-cs-N422a.ipynb의 사본",
      "provenance": [],
      "include_colab_link": true
    },
    "kernelspec": {
      "display_name": "codestates_ds",
      "language": "python",
      "name": "codestates_ds"
    },
    "language_info": {
      "codemirror_mode": {
        "name": "ipython",
        "version": 3
      },
      "file_extension": ".py",
      "mimetype": "text/x-python",
      "name": "python",
      "nbconvert_exporter": "python",
      "pygments_lexer": "ipython3",
      "version": "3.7.7"
    },
    "nteract": {
      "version": "0.22.4"
    }
  },
  "cells": [
    {
      "cell_type": "markdown",
      "metadata": {
        "id": "view-in-github",
        "colab_type": "text"
      },
      "source": [
        "<a href=\"https://colab.research.google.com/github/sunghwa0508/code/blob/main/ds_cs_N422a_ipynb%EC%9D%98_%EC%82%AC%EB%B3%B8.ipynb\" target=\"_parent\"><img src=\"https://colab.research.google.com/assets/colab-badge.svg\" alt=\"Open In Colab\"/></a>"
      ]
    },
    {
      "cell_type": "markdown",
      "metadata": {
        "id": "BLEL2jEx46JU"
      },
      "source": [
        "<img align=\"right\" src=\"https://ds-cs-images.s3.ap-northeast-2.amazonaws.com/Codestates_Fulllogo_Color.png\" width=100>\n",
        "\n",
        "## *DATA SCIENCE / SECTION 4 / SPRINT 1 / NOTE 2*\n",
        "\n",
        "---\n",
        "\n",
        "# 📝 Assignment\n",
        "\n",
        "# 경사하강법과 역전파 알고리즘"
      ]
    },
    {
      "cell_type": "markdown",
      "metadata": {
        "id": "AgaDts6bzuFP"
      },
      "source": [
        "## 문제 1. 개념이해\n",
        "\n",
        "- 1-1. 신경망의 역전파를 이해하기 위해서는 Loss 함수를 해당 가중치로 편미분 한 값을 구해야 한다. \n",
        "- 1-2. 신경망의 역전파에서 Loss함수는 타겟값과 출력층에서 나오는 값(출력값, output)의 차이로 정의(구성)된다. \n",
        "- 1-3. 신경망의 가중치를 업데이트할 양을 계산하기 위해서 **문제1-1**의 과정을 연산해야 하는데, 복합적인 함수로 구성된 경우 한번에 계산하기 어렵거나 불가능하기 때문에 chain rule 을 도입(사용)한다. 이는 합성함수 연산 공식을 이용해서 계산가능한 것들을 각각 연산하여, 전체의 값을 종합적으로 도출하는 방법이다.  \n",
        "- 1-4. 신경망의 가중치를 업데이트(학습)할 양(수치)가 정해지지만 항상 100%를 반영하는 것이 아니라 0.01, 0.001 등 학습하는 양을 조절하는 하이퍼파라미터를 설정하여 얼마만큼 씩 반영할 것인지를 정해줄 수 있다. 이렇게 한번에 얼만큼씩 파라미터를 업데이트 할 지 정해주는 것을 learning rate 이라 한다. \n",
        "\n",
        "## 문제 2. Keras 이용하기\n",
        "\n",
        "32개의 입력 노드, 64, 256개의 노드 2개의 은닉층, 5개의 클래스로 구성된 데이터를 가진 신경망을 만드는 데 필요한 알맞은 숫자를 넣으시오. \n",
        "\n"
      ]
    },
    {
      "cell_type": "code",
      "metadata": {
        "id": "CMteMkoM1fyn"
      },
      "source": [
        "from tensorflow.keras.models import Sequential\n",
        "from tensorflow.keras.layers import Dense\n",
        "\n",
        "A = 64\n",
        "B = 32\n",
        "C = 256\n",
        "D = 5\n",
        "\n",
        "model = Sequential([\n",
        "    Dense(A, activation='sigmoid', input_dim=B), # A, B\n",
        "    Dense(C, activation='sigmoid'), # C\n",
        "    Dense(D, activation='softmax') # D\n",
        "])\n",
        "\n",
        "lossFunction = 'sparse_categorical_crossentropy'\n",
        "batch_size =  50\n",
        "\n",
        "model.compile(optimizer='sgd', loss=lossFunction, metrics=['acc'])\n",
        " \n",
        "results = model.fit(X,y, batch_size=batch_size, epochs=100)"
      ],
      "execution_count": null,
      "outputs": []
    },
    {
      "cell_type": "markdown",
      "metadata": {
        "id": "fS6vZajr16FV"
      },
      "source": [
        "- 2-1. 각각의 알파벳에 들어갈 숫자들은 이용하여  `A+C/B + D` 을 연산하여 정답을 입력하시오. (덧셈과 나눗셈의 순서를 혼동하지 않도록 조심할 것.)\n",
        "\n",
        "77\n",
        "\n",
        "\n",
        "\n",
        "- 2-2. lossFunction에는 어떤 값을 넣어주어야 하나?\n",
        "\n",
        "- 2-3. 입력데이터의 개수는 100개이고 batch_size가 50개라고 하면, 위 코드를 기준으로 전체 가중치의 학습(iteration)은 총 몇번이 일어날까? 200\n"
      ]
    },
    {
      "cell_type": "markdown",
      "metadata": {
        "id": "5I24RJA15M-j"
      },
      "source": [
        "# 도전과제"
      ]
    },
    {
      "cell_type": "markdown",
      "metadata": {
        "id": "NGGrt9EYlCqY"
      },
      "source": [
        "## 1) PPT(Keynote) 등을 이용하여 역전파 알고리즘을 강의할 수 있는 자료를 만들어 보세요. \n",
        "- 발표자료는 2장을 추천하며, 최대 4장 내에서 해결해주세요. \n",
        "- 유튜브나, 강의 자료에서 사용한 구조를 그대로 사용해도 좋습니다. 한편 해당 내용을 다음 과제에서 code로 구현할 것입니다."
      ]
    },
    {
      "cell_type": "markdown",
      "metadata": {
        "id": "zShOSquZ46Jc"
      },
      "source": [
        "## 2) 다음 개념에 대해 조사하여 정리해 보세요\n",
        "\n",
        "1. 다음 각 손실함수에 대해 어떤 상황에 사용해야 하는지 정리하세요.\n",
        "    - BinaryCrossentropy\n",
        "    - CategoricalCrossentropy\n",
        "    - SparseCategoricalCrossentropy\n",
        "    - MeanSquaredError\n",
        "   \n",
        "[loss functions](https://www.tensorflow.org/api_docs/python/tf/keras/losses).\n",
        "\n",
        "2. 다음 각 optimizer에 대해 조사하고 개념을 간략히 정리(2-3문장 이내)하세요\n",
        "    - tf.keras.optimizers.SGD\n",
        "    - tf.keras.optimizers.RMSprop\n",
        "    - tf.keras.optimizers.Adam\n",
        "    - tfa.keras.optimizers.AdamW\n",
        "\n",
        "[optimizers](https://www.tensorflow.org/api_docs/python/tf/keras/optimizers). "
      ]
    },
    {
      "cell_type": "code",
      "metadata": {
        "id": "52tNz3Qq46Jc"
      },
      "source": [
        "### "
      ],
      "execution_count": null,
      "outputs": []
    },
    {
      "cell_type": "markdown",
      "metadata": {
        "id": "e15x12kU46Jf"
      },
      "source": [
        "## 3) 지난 과제였던 Mouse data 분류문제를 해결하는데 신경망을 5-fold CrssValidation(CV)을 이용하여 총 5개의 모델을 만들어서 성능을 측정하고 비교해 보세요. \n"
      ]
    },
    {
      "cell_type": "code",
      "metadata": {
        "id": "Avc8wyYX46Jf"
      },
      "source": [
        "###"
      ],
      "execution_count": null,
      "outputs": []
    },
    {
      "cell_type": "markdown",
      "metadata": {
        "id": "FwlRJSfBlCvy"
      },
      "source": [
        "## 4) 🔥 추가 목표\n",
        "\n",
        "- MNIST, Fashion MNIST를, cross entropy & soft-max를 사용해서 풀어보시고, Activation Function, optimizer를 수정하여 기존 성능을 개선시켜 보세요. 실무에 나가시면, 데이터만 바뀌지 같은 작업을 지속적으로 하실 것이고, 퍼포먼스(성능)을 높이기 위해 어떤 작업을 해보셨는지 말씀하실 수 있습니다.\n",
        "- 위 문제를 풀면서 5-fold CV을 수행해보세요.\n",
        "- 강의 시청\n",
        "    - [Lecture 9.2 — Neural Networks Learning | Backpropagation Algorithm — [ Machine Learning | Andrew Ng]](https://youtu.be/x_Eamf8MHwU)\n",
        "    - [Lecture 9.3 — Neural Networks Learning | Backpropagation Intuition — [ Machine Learning | Andrew Ng]](https://youtu.be/mOmkv5SI9hU)\n",
        "    - [Lecture 9.7 — Neural Networks Learning | Putting It Together — [ Machine Learning | Andrew Ng]](https://youtu.be/cObOAIImeVQ)\n",
        "- 다른 경사하강법 기반의 최적화 도구를 공부해보세요. \n",
        " - [Gradient Descent Based Optimizers](https://keras.io/optimizers/)\n",
        " - [Siraj Raval the evolution of gradient descent](https://www.youtube.com/watch?v=nhqo0u1a6fw)"
      ]
    },
    {
      "cell_type": "code",
      "metadata": {
        "id": "Q-C_2hOf46Ji"
      },
      "source": [
        ""
      ],
      "execution_count": null,
      "outputs": []
    }
  ]
}